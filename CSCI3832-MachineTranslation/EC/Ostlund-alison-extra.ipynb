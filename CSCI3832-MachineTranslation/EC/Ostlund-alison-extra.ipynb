{
 "cells": [
  {
   "cell_type": "code",
   "execution_count": 1,
   "metadata": {},
   "outputs": [],
   "source": [
    "#Alison Ostlund\n",
    "#CSCI3832 EXTRA CREDIT\n",
    "#Deception Detection\n",
    "from collections import Counter\n",
    "import string\n",
    "import math"
   ]
  },
  {
   "cell_type": "code",
   "execution_count": 2,
   "metadata": {
    "scrolled": true
   },
   "outputs": [],
   "source": [
    "#read in false text file, read in line by line ignoring the ID at beginning of each sentence\n",
    "f = open(\"hotelF-train.txt\").readlines()\n",
    "fdict = []\n",
    "for line in f:\n",
    "    line = line.translate(str.maketrans('', '', string.punctuation))\n",
    "    line = line.lower()\n",
    "    fword = line.split(\"\\t\")[1]\n",
    "    fdict.extend(fword.split())\n",
    "ffreqs = Counter(fdict)"
   ]
  },
  {
   "cell_type": "code",
   "execution_count": 3,
   "metadata": {},
   "outputs": [],
   "source": [
    "#read in true text file, read in line by line ignoring the ID at beginning of each sentence\n",
    "t = open(\"hotelT-train.txt\").readlines()\n",
    "tdict = []\n",
    "for line in t:\n",
    "    line = line.translate(str.maketrans('', '', string.punctuation))\n",
    "    line = line.lower()\n",
    "    tword = line.split(\"\\t\")[1]\n",
    "    tdict.extend(tword.split())\n",
    "tfreqs = Counter(tdict)"
   ]
  },
  {
   "cell_type": "code",
   "execution_count": 7,
   "metadata": {},
   "outputs": [],
   "source": [
    "#size of both pos and neg unigrams\n",
    "falseN = sum(ffreqs.values())\n",
    "trueN = sum(tfreqs.values())\n",
    "\n",
    "#size of the vocab\n",
    "vocab = len(tfreqs) + len(ffreqs)\n",
    "\n",
    "\n",
    "#create probs associated with neg uni using Niave Bayes\n",
    "falseUni = {}\n",
    "for word in ffreqs:\n",
    "    falseUni[word]= (ffreqs[word] + 1)/ (falseN + vocab)\n",
    "\n",
    "\n",
    "#create probs associated with pos uni using Niave Bayes\n",
    "trueUni = {}\n",
    "for word in tfreqs:\n",
    "    trueUni[word] = (tfreqs[word] + 1)/ (trueN + vocab)\n",
    "\n",
    "\n",
    "logfalse = {}\n",
    "for word in ffreqs:\n",
    "    logfalse[word]= math.log((ffreqs[word] + 1)/ (falseN + vocab))\n",
    "\n",
    "logtrue = {}\n",
    "for word in tfreqs:\n",
    "    logtrue[word] = math.log((tfreqs[word] + 1)/ (trueN + vocab))\n"
   ]
  },
  {
   "cell_type": "code",
   "execution_count": 8,
   "metadata": {},
   "outputs": [],
   "source": [
    "def classification(text):\n",
    "    false = 1\n",
    "    true = 1\n",
    "    text = text.split()\n",
    "    for i in range(1, len(text)):\n",
    "        if (text[i] in falseUni):\n",
    "            false *= falseUni[text[i]]\n",
    "        else:\n",
    "            false *= 1 / (falseN + vocab) \n",
    "        if (text[i] in trueUni):\n",
    "            true  *= trueUni[text[i]]\n",
    "        else:\n",
    "            true *= 1/ (trueN + vocab)\n",
    "#deal with underflow if prob of neg or pos very small\n",
    "    if (true <= 0 and false <= 0):\n",
    "        true = 0\n",
    "        false = 0\n",
    "        print(\"underflow: {}, {}\". format(true,false))\n",
    "        for i in range(1, len(text)):\n",
    "            if (text[i] in logfalse):\n",
    "                false += logfalse[text[i]]\n",
    "            else:\n",
    "                false += 1/ (falseN + vocab) \n",
    "            if (text[i] in logtrue):\n",
    "                true += logtrue[text[i]]\n",
    "            else:\n",
    "                true += 1/ (trueN + vocab)\n",
    "        true = abs(true)\n",
    "        false = abs(false)\n",
    "    print(true, false)\n",
    "    if(false > true):\n",
    "        return(\" F\")\n",
    "    elif(true > false):\n",
    "        return(\" T\")\n",
    "    else:\n",
    "        return(\"Unclassified\") \n"
   ]
  },
  {
   "cell_type": "code",
   "execution_count": 9,
   "metadata": {},
   "outputs": [
    {
     "name": "stdout",
     "output_type": "stream",
     "text": [
      "underflow: 0, 0\n",
      "592.7603533050415 564.8140310342725\n"
     ]
    },
    {
     "data": {
      "text/plain": [
       "' T'"
      ]
     },
     "execution_count": 9,
     "metadata": {},
     "output_type": "execute_result"
    }
   ],
   "source": [
    "classification(\"ID-1193\tOur stay at this hotel was not very pleasant. While the room was spacious it didn't appear to be very clean. Also, it was a bit pricey for the location and accomodations. While the stay came with a free breakfast, it was not very good. The food was bland. They also offered a business station with a computer and internet access. Do not stay at the Days Inn. First, when we got to the front counter and rang the bell, it took TEN minutes for someone to finally approach us. The young woman who did was more interested in her phone than in talking to us. Once we got our keycard we found our room and expected to at least have something average there. Wrong! The bedsheets and everything were everywhere.\")"
   ]
  },
  {
   "cell_type": "code",
   "execution_count": 10,
   "metadata": {},
   "outputs": [
    {
     "name": "stdout",
     "output_type": "stream",
     "text": [
      "underflow: 0, 0\n",
      "1172.8965549205627 1136.8970040319368\n",
      "3.3148712445915355e-263 7.689661585993164e-262\n",
      "1.3148090931817724e-248 9.106426800456958e-247\n",
      "2.7323852026007166e-78 7.959538039396719e-78\n",
      "4.977128795290983e-290 1.482219763117438e-288\n",
      "underflow: 0, 0\n",
      "636.1980331280236 628.2903086084998\n",
      "8.096802379484426e-154 8.651210568563355e-156\n",
      "underflow: 0, 0\n",
      "801.5657960608592 793.3012441244875\n",
      "5.6211958639202705e-292 4.977026974496764e-292\n",
      "4.0208516868616e-110 5.709339238949637e-111\n",
      "2.534219664376903e-292 4.4283435925574795e-296\n",
      "underflow: 0, 0\n",
      "3117.605943666159 3148.2747618215303\n",
      "2.15682536877e-313 9.230518104882e-311\n",
      "underflow: 0, 0\n",
      "941.4653918772641 920.1537045360825\n",
      "1.8674225545264567e-226 3.6953467437286166e-227\n",
      "1.263126783526901e-280 3.13829851134932e-280\n",
      "4.3836102005164376e-243 2.6154529654430796e-243\n",
      "5.0642269305791355e-174 1.3073729984986555e-172\n",
      "6.641299827934487e-304 6.632074738385749e-300\n",
      "9.416042967364203e-58 6.869293720203868e-58\n",
      "3.2681979844453973e-305 1.8813402878327048e-304\n",
      "underflow: 0, 0\n",
      "1259.1654920194487 1316.336533772449\n",
      "3.6958734405715725e-79 8.037905834716838e-81\n",
      "3.933529753600068e-264 6.392577150251226e-258\n",
      "7.469622655301948e-197 2.2214905547149985e-199\n",
      "underflow: 0, 0\n",
      "1041.7628283582605 1008.2819807784226\n",
      "underflow: 0, 0\n",
      "2725.24053013365 2734.7418022121747\n",
      "3.506376775973735e-21 4.325030751204593e-21\n",
      "2.4040063178076534e-172 1.338404439298395e-167\n",
      "6.288757968482336e-284 4.953499497963409e-284\n",
      "1.7753053365053678e-234 2.4445867878315858e-234\n",
      "8.795199521697806e-280 1.6687030089298256e-279\n",
      "underflow: 0, 0\n",
      "782.7901538931485 759.3771471977337\n",
      "underflow: 0, 0\n",
      "878.0257945212953 851.7709589041649\n",
      "underflow: 0, 0\n",
      "751.7242967179112 714.2879064901105\n",
      "underflow: 0, 0\n",
      "723.9789630939122 698.595772374426\n",
      "6.160474553128595e-309 4.0633557753e-314\n",
      "underflow: 0, 0\n",
      "683.9657918029624 658.7323734754215\n",
      "underflow: 0, 0\n",
      "906.3615408368136 857.1267208208727\n",
      "3.5564449777933817e-202 3.0517473747579475e-203\n",
      "underflow: 0, 0\n",
      "661.4056713033294 659.7966088251203\n",
      "underflow: 0, 0\n",
      "696.9746710477451 683.2983387311746\n",
      "1.4501337987207688e-202 1.218274413847661e-202\n",
      "underflow: 0, 0\n",
      "1167.9401342298047 1199.9651044504205\n",
      "3.186104871890727e-308 6.891871895672814e-309\n",
      "2.1202932711379748e-193 7.040693919051144e-195\n",
      "2.9865208141432077e-157 5.602534704861208e-154\n",
      "underflow: 0, 0\n",
      "959.6993990032906 971.1003595176949\n",
      "8.14508035165428e-92 1.1136190185274057e-91\n",
      "1.8366990854964695e-63 2.4053406054328078e-63\n"
     ]
    }
   ],
   "source": [
    "#write the Classifications of text set to a file\n",
    "def classFile(filename):\n",
    "    f = open(filename)\n",
    "    lines = f.readlines()\n",
    "    r = open(\"ostlund-alison-extra-out.txt\", 'w')\n",
    "    text = []\n",
    "    for line in lines:\n",
    "        iD = line.split(\"\\t\")[0]\n",
    "        line = line.split(\"\\t\")[1]\n",
    "        line = line.lower()\n",
    "        line = line.translate(str.maketrans('', '', string.punctuation))\n",
    "        text = classification(line)\n",
    "        r.write(str(iD) + str(text) + \"\\n\")\n",
    "    f.close()\n",
    "    r.close()\n",
    "    \n",
    "classFile(\"hotelDeceptionTest.txt\")"
   ]
  },
  {
   "cell_type": "code",
   "execution_count": null,
   "metadata": {},
   "outputs": [],
   "source": []
  }
 ],
 "metadata": {
  "kernelspec": {
   "display_name": "Python 3",
   "language": "python",
   "name": "python3"
  },
  "language_info": {
   "codemirror_mode": {
    "name": "ipython",
    "version": 3
   },
   "file_extension": ".py",
   "mimetype": "text/x-python",
   "name": "python",
   "nbconvert_exporter": "python",
   "pygments_lexer": "ipython3",
   "version": "3.6.4"
  }
 },
 "nbformat": 4,
 "nbformat_minor": 2
}
